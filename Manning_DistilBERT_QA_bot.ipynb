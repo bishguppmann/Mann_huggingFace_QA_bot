{
  "cells": [
    {
      "cell_type": "markdown",
      "metadata": {
        "id": "view-in-github",
        "colab_type": "text"
      },
      "source": [
        "<a href=\"https://colab.research.google.com/github/bishguppmann/Mann_huggingFace_QA_bot/blob/main/Manning_DistilBERT_QA_bot.ipynb\" target=\"_parent\"><img src=\"https://colab.research.google.com/assets/colab-badge.svg\" alt=\"Open In Colab\"/></a>"
      ]
    },
    {
      "cell_type": "markdown",
      "source": [
        "1st Build a Question Answering (QA) NLP Task with a DistilBERT Transformer"
      ],
      "metadata": {
        "id": "lcmNb6v65f-5"
      }
    },
    {
      "cell_type": "markdown",
      "source": [
        "Objective\n",
        "\n",
        "In Python, implement a question answering NLP task using the Hugging Face library."
      ],
      "metadata": {
        "id": "Rdr50C4RxP9J"
      }
    },
    {
      "cell_type": "markdown",
      "source": [
        "Importance to project\n",
        "\n",
        "In this milestone, you will learn how to create software that allows users to ask questions and receive answers based on a piece of context text. We are used to searching for keywords in a text. But how much more interesting would it be if we could ask questions of books and websites?"
      ],
      "metadata": {
        "id": "DunoaRh5xY5r"
      }
    },
    {
      "cell_type": "markdown",
      "source": [
        "#Workflow\n",
        "\n",
        "* Create a new Colab at https://colab.research.google.com/.\n",
        "* Install the Hugging Face transformers package (1 line of code).\n",
        "* Import the pipeline class from the transformers package (1 line of code).\n",
        "* Instantiate the pipeline class by passing the “question-answering” task as a parameter (1 line of code).\n",
        "* When you pass just this parameter, the NLP “question-answering” task will be initiated by the Hugging Face library using the transformer DistilBERT, which is a model of the BERT family that stands out for its speed in inference.\n",
        "* Use the instantiated object by passing a context (a set of text containing information about anything; for example, “Pink Floyd was an English rock band formed in London in 1965.”) and a question (“When was Pink Floyd formed?”) (1 line of code).\n",
        "* The result should look like the following figure (the BERT model got it right):"
      ],
      "metadata": {
        "id": "51VSNr6TxlGU"
      }
    },
    {
      "cell_type": "markdown",
      "source": [
        "![image.png](data:image/png;base64,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)"
      ],
      "metadata": {
        "id": "pQGoQxiuyFaa"
      }
    },
    {
      "cell_type": "markdown",
      "source": [
        "#Note:\n",
        "* The output is presented in a key value dictionary format.\n",
        "* The answer key shows the output with the answer to the question\n",
        "* the score key shows the confidence level of the answer\n",
        "* and the end and start keys show the position in the context from which the answer was extracted."
      ],
      "metadata": {
        "id": "UvozBfyjyORQ"
      }
    },
    {
      "cell_type": "markdown",
      "source": [
        "#Deliverable\n",
        "* The deliverable for this milestone is a Jupyter notebook with a Python script that uses the Hugging Face library pipeline class for the question answering NLP task of receiving a question and a context and returning an answer.\n",
        "* Upload a link to your deliverable in the **Submit Your Work** section and click submit.\n",
        "* After submitting, the Author’s solution and peer solutions will appear on the page for you to examine."
      ],
      "metadata": {
        "id": "dDSAgM5by95G"
      }
    },
    {
      "cell_type": "code",
      "execution_count": null,
      "metadata": {
        "id": "_D24w-v8od4Y",
        "colab": {
          "base_uri": "https://localhost:8080/"
        },
        "outputId": "dd5d0496-a57d-4274-f3d6-bde20ac50130"
      },
      "outputs": [
        {
          "output_type": "stream",
          "name": "stdout",
          "text": [
            "Requirement already satisfied: transformers in /usr/local/lib/python3.10/dist-packages (4.38.2)\n",
            "Requirement already satisfied: filelock in /usr/local/lib/python3.10/dist-packages (from transformers) (3.13.1)\n",
            "Requirement already satisfied: huggingface-hub<1.0,>=0.19.3 in /usr/local/lib/python3.10/dist-packages (from transformers) (0.20.3)\n",
            "Requirement already satisfied: numpy>=1.17 in /usr/local/lib/python3.10/dist-packages (from transformers) (1.25.2)\n",
            "Requirement already satisfied: packaging>=20.0 in /usr/local/lib/python3.10/dist-packages (from transformers) (24.0)\n",
            "Requirement already satisfied: pyyaml>=5.1 in /usr/local/lib/python3.10/dist-packages (from transformers) (6.0.1)\n",
            "Requirement already satisfied: regex!=2019.12.17 in /usr/local/lib/python3.10/dist-packages (from transformers) (2023.12.25)\n",
            "Requirement already satisfied: requests in /usr/local/lib/python3.10/dist-packages (from transformers) (2.31.0)\n",
            "Requirement already satisfied: tokenizers<0.19,>=0.14 in /usr/local/lib/python3.10/dist-packages (from transformers) (0.15.2)\n",
            "Requirement already satisfied: safetensors>=0.4.1 in /usr/local/lib/python3.10/dist-packages (from transformers) (0.4.2)\n",
            "Requirement already satisfied: tqdm>=4.27 in /usr/local/lib/python3.10/dist-packages (from transformers) (4.66.2)\n",
            "Requirement already satisfied: fsspec>=2023.5.0 in /usr/local/lib/python3.10/dist-packages (from huggingface-hub<1.0,>=0.19.3->transformers) (2023.6.0)\n",
            "Requirement already satisfied: typing-extensions>=3.7.4.3 in /usr/local/lib/python3.10/dist-packages (from huggingface-hub<1.0,>=0.19.3->transformers) (4.10.0)\n",
            "Requirement already satisfied: charset-normalizer<4,>=2 in /usr/local/lib/python3.10/dist-packages (from requests->transformers) (3.3.2)\n",
            "Requirement already satisfied: idna<4,>=2.5 in /usr/local/lib/python3.10/dist-packages (from requests->transformers) (3.6)\n",
            "Requirement already satisfied: urllib3<3,>=1.21.1 in /usr/local/lib/python3.10/dist-packages (from requests->transformers) (2.0.7)\n",
            "Requirement already satisfied: certifi>=2017.4.17 in /usr/local/lib/python3.10/dist-packages (from requests->transformers) (2024.2.2)\n"
          ]
        }
      ],
      "source": [
        "# Install\n",
        "!pip install transformers"
      ]
    },
    {
      "cell_type": "code",
      "execution_count": null,
      "metadata": {
        "id": "KXY9QaxQpNKK"
      },
      "outputs": [],
      "source": [
        "# Import\n",
        "from transformers import pipeline"
      ]
    },
    {
      "cell_type": "code",
      "execution_count": null,
      "metadata": {
        "id": "rDGEVFlFpUc2",
        "colab": {
          "base_uri": "https://localhost:8080/"
        },
        "outputId": "4a48e3dd-6f17-4dd0-9ac5-eac5651f115d"
      },
      "outputs": [
        {
          "output_type": "stream",
          "name": "stderr",
          "text": [
            "No model was supplied, defaulted to distilbert/distilbert-base-cased-distilled-squad and revision 626af31 (https://huggingface.co/distilbert/distilbert-base-cased-distilled-squad).\n",
            "Using a pipeline without specifying a model name and revision in production is not recommended.\n"
          ]
        },
        {
          "output_type": "execute_result",
          "data": {
            "text/plain": [
              "{'score': 0.9916383624076843, 'start': 69, 'end': 73, 'answer': '1965'}"
            ]
          },
          "metadata": {},
          "execution_count": 5
        }
      ],
      "source": [
        "# Run\n",
        "qa = pipeline('question-answering')\n",
        "qa(context='Pink Floyd was an English rock band that formed in London England in 1965.', question='When was the band called Pink Floyd started ?')"
      ]
    }
  ],
  "metadata": {
    "colab": {
      "provenance": [],
      "include_colab_link": true
    },
    "kernelspec": {
      "display_name": "Python 3",
      "name": "python3"
    },
    "language_info": {
      "name": "python"
    }
  },
  "nbformat": 4,
  "nbformat_minor": 0
}